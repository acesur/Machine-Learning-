{
  "nbformat": 4,
  "nbformat_minor": 0,
  "metadata": {
    "colab": {
      "provenance": [],
      "authorship_tag": "ABX9TyP8X2zohCVXfBmWPqrEeGAt",
      "include_colab_link": true
    },
    "kernelspec": {
      "name": "python3",
      "display_name": "Python 3"
    },
    "language_info": {
      "name": "python"
    }
  },
  "cells": [
    {
      "cell_type": "markdown",
      "metadata": {
        "id": "view-in-github",
        "colab_type": "text"
      },
      "source": [
        "<a href=\"https://colab.research.google.com/github/acesur/Machine-Learning-/blob/main/utils_py.ipynb\" target=\"_parent\"><img src=\"https://colab.research.google.com/assets/colab-badge.svg\" alt=\"Open In Colab\"/></a>"
      ]
    },
    {
      "cell_type": "code",
      "execution_count": null,
      "metadata": {
        "id": "opR165sdiXQS"
      },
      "outputs": [],
      "source": [
        "import cv2\n",
        "import numpy as np\n",
        "\n",
        "def extract_abcd_features_robust(image_path):\n",
        "    try:\n",
        "        img = cv2.imread(image_path)\n",
        "        if img is None:\n",
        "            return None\n",
        "\n",
        "        img = cv2.cvtColor(img, cv2.COLOR_BGR2RGB)\n",
        "        gray = cv2.cvtColor(img, cv2.COLOR_RGB2GRAY)\n",
        "\n",
        "        _, thresh_otsu = cv2.threshold(gray, 0, 255, cv2.THRESH_BINARY_INV + cv2.THRESH_OTSU)\n",
        "        thresh_adaptive = cv2.adaptiveThreshold(gray, 255, cv2.ADAPTIVE_THRESH_GAUSSIAN_C,\n",
        "                                                cv2.THRESH_BINARY_INV, 11, 2)\n",
        "\n",
        "        for thresh in [thresh_otsu, thresh_adaptive]:\n",
        "            contours, _ = cv2.findContours(thresh, cv2.RETR_EXTERNAL, cv2.CHAIN_APPROX_SIMPLE)\n",
        "            if not contours:\n",
        "                continue\n",
        "\n",
        "            largest_contour = max(contours, key=cv2.contourArea)\n",
        "            contour_area = cv2.contourArea(largest_contour)\n",
        "            if contour_area < 100:\n",
        "                continue\n",
        "\n",
        "            mask = np.zeros_like(gray)\n",
        "            cv2.drawContours(mask, [largest_contour], 0, 255, -1)\n",
        "\n",
        "            h, w = mask.shape\n",
        "            flipped_mask = cv2.flip(mask, 1)\n",
        "            asymmetry = np.sum(np.abs(mask - flipped_mask)) / (h * w * 255)\n",
        "\n",
        "            perimeter = cv2.arcLength(largest_contour, True)\n",
        "            border_irregularity = perimeter**2 / (4 * np.pi * contour_area) if contour_area > 0 else 0\n",
        "\n",
        "            r, g, b = cv2.split(img)\n",
        "            mask_bool = mask > 0\n",
        "\n",
        "            color_variance_r = np.var(r[mask_bool]) if np.sum(mask_bool) > 0 else 0\n",
        "            color_variance_g = np.var(g[mask_bool]) if np.sum(mask_bool) > 0 else 0\n",
        "            color_variance_b = np.var(b[mask_bool]) if np.sum(mask_bool) > 0 else 0\n",
        "\n",
        "            x, y, w, h = cv2.boundingRect(largest_contour)\n",
        "            diameter = max(w, h)\n",
        "\n",
        "            return {\n",
        "                'asymmetry': float(asymmetry),\n",
        "                'border_irregularity': float(border_irregularity),\n",
        "                'color_variance_r': float(color_variance_r),\n",
        "                'color_variance_g': float(color_variance_g),\n",
        "                'color_variance_b': float(color_variance_b),\n",
        "                'diameter': float(diameter)\n",
        "            }\n",
        "\n",
        "        return None\n",
        "\n",
        "    except Exception as e:\n",
        "        print(f\"Error in feature extraction: {str(e)}\")\n",
        "        return None\n"
      ]
    }
  ]
}